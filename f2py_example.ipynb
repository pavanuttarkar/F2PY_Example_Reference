{
 "cells": [
  {
   "cell_type": "code",
   "execution_count": 3,
   "id": "constitutional-location",
   "metadata": {},
   "outputs": [],
   "source": [
    "import numpy as np"
   ]
  },
  {
   "cell_type": "code",
   "execution_count": 4,
   "id": "touched-estate",
   "metadata": {},
   "outputs": [
    {
     "name": "stdout",
     "output_type": "stream",
     "text": [
      "The fortranmagic extension is already loaded. To reload it, use:\n",
      "  %reload_ext fortranmagic\n"
     ]
    }
   ],
   "source": [
    "%load_ext fortranmagic"
   ]
  },
  {
   "cell_type": "code",
   "execution_count": 5,
   "id": "virgin-ukraine",
   "metadata": {},
   "outputs": [
    {
     "name": "stdout",
     "output_type": "stream",
     "text": [
      "The extension _fortran_magic_36d37276d2427940a7129fd4adf144d4 is already loaded. To reload it, use:\n",
      "  %fortran_config --clean-cache\n"
     ]
    }
   ],
   "source": [
    "%%fortran\n",
    "subroutine geo(delay_now,&\n",
    "               W_geometric,&\n",
    "               ha,&\n",
    "               loc,&\n",
    "               dec,&\n",
    "               len1)\n",
    "        !declaring variables\n",
    "        !Remeber intent out is variables that are sent out of the\n",
    "        !subroutine..\n",
    "\n",
    "\n",
    "        !\n",
    "        integer(kind=4), intent(in)                 :: len1\n",
    "        real(kind=8), intent(in)                    :: dec\n",
    "        real(kind=8), intent(in),dimension(3)       :: loc\n",
    "        real(kind=8), intent(out), dimension(len1)               :: delay_now\n",
    "        real(kind=8), intent(out), dimension(len1)               :: W_geometric\n",
    "        real(kind=8), intent(in), dimension(len1)                :: ha\n",
    "        integer(kind=4)                    :: i\n",
    "        REAL(kind=8), DIMENSION(2027520) :: X, Y, Z\n",
    "        REAL(kind=8)               :: c_per_mus = 299.792458, pi = 3.14159265359\n",
    "        do i = 1, len1\n",
    "                X(i)            = (loc(1)*cos(dec*pi/180))/c_per_mus\n",
    "                Y(i)            = (-1.0*loc(2)*cos(dec*pi/180))/c_per_mus\n",
    "                Z(i)            = (loc(3)*sin(dec*pi/180))/c_per_mus\n",
    "                W_geometric(i)  = (X(i)*cos(ha(i)*pi/180) +Y(i)*sin(ha(i)*pi/180) + Z(i))\n",
    "                delay_now(i)    = X(i)*cos(ha(i)*pi/180) +Y(i)*sin(ha(i)*pi/180)\n",
    "        enddo\n",
    "        !return\n",
    "\n",
    "end subroutine\n"
   ]
  },
  {
   "cell_type": "code",
   "execution_count": 6,
   "id": "fifty-fruit",
   "metadata": {},
   "outputs": [],
   "source": [
    "def get_delay(ha,\n",
    "              loc,\n",
    "              dec):\n",
    "    \"\"\"Example function for f2py\n",
    "       \n",
    "    \"\"\"\n",
    "    #Defining constants..\n",
    "    c_per_mus   = 299.792458\n",
    "    pi          = 3.14159265359\n",
    "    deg2rad     = pi/180.0\n",
    "    X           = np.zeros((len(ha)))\n",
    "    Y           = np.zeros((len(ha)))\n",
    "    Z           = np.zeros((len(ha)))\n",
    "    W_geometric = np.zeros((len(ha)))\n",
    "    delay_now   = np.zeros((len(ha)))\n",
    "\n",
    "    for i in range(len(ha)):\n",
    "        X[i]            = (loc[0] * np.cos(dec*deg2rad)) / c_per_mus\n",
    "        Y[i]            = (-1.0*loc[1]*np.cos(dec*deg2rad)) / c_per_mus\n",
    "        Z[i]            = (loc[2]*np.sin(dec*deg2rad))/c_per_mus\n",
    "        W_geometric[i]  = (X[i]*np.cos(ha[i]*deg2rad) +Y[i]*np.sin(ha[i]*deg2rad) + Z[i])\n",
    "        delay_now[i]    = X[i]*np.cos(ha[i]*deg2rad)  +Y[i]*np.sin(ha[i]*deg2rad)\n",
    "    return delay_now, W_geometric\n"
   ]
  },
  {
   "cell_type": "code",
   "execution_count": 9,
   "id": "serial-christianity",
   "metadata": {},
   "outputs": [],
   "source": [
    "#defing ha and loc for benchmarking \n",
    "ha  = np.linspace(-12, 12, 10000)\n",
    "loc = np.array([10, 20, 100])"
   ]
  },
  {
   "cell_type": "markdown",
   "id": "printable-copying",
   "metadata": {},
   "source": [
    "# Benchmarking fortran and pure (sort of) python "
   ]
  },
  {
   "cell_type": "code",
   "execution_count": 10,
   "id": "golden-prince",
   "metadata": {},
   "outputs": [
    {
     "name": "stdout",
     "output_type": "stream",
     "text": [
      "183 ms ± 2.47 ms per loop (mean ± std. dev. of 7 runs, 10 loops each)\n"
     ]
    }
   ],
   "source": [
    "%timeit get_delay(ha, loc, 100)"
   ]
  },
  {
   "cell_type": "code",
   "execution_count": 14,
   "id": "undefined-favorite",
   "metadata": {},
   "outputs": [
    {
     "name": "stdout",
     "output_type": "stream",
     "text": [
      "233 µs ± 1.87 µs per loop (mean ± std. dev. of 7 runs, 1000 loops each)\n"
     ]
    }
   ],
   "source": [
    "%timeit geo(ha, loc, 100)"
   ]
  },
  {
   "cell_type": "code",
   "execution_count": 17,
   "id": "transparent-commitment",
   "metadata": {},
   "outputs": [
    {
     "name": "stdout",
     "output_type": "stream",
     "text": [
      "First level improvement of ~785.4077253218884\n"
     ]
    }
   ],
   "source": [
    "print(f'First level improvement of ~{183e-3/233e-6}')"
   ]
  },
  {
   "cell_type": "markdown",
   "id": "broadband-offer",
   "metadata": {},
   "source": [
    "## Improvement of 78500 % !"
   ]
  },
  {
   "cell_type": "code",
   "execution_count": null,
   "id": "governing-olympus",
   "metadata": {},
   "outputs": [],
   "source": []
  }
 ],
 "metadata": {
  "kernelspec": {
   "display_name": "Python 3 (ipykernel)",
   "language": "python",
   "name": "python3"
  },
  "language_info": {
   "codemirror_mode": {
    "name": "ipython",
    "version": 3
   },
   "file_extension": ".py",
   "mimetype": "text/x-python",
   "name": "python",
   "nbconvert_exporter": "python",
   "pygments_lexer": "ipython3",
   "version": "3.8.5"
  }
 },
 "nbformat": 4,
 "nbformat_minor": 5
}
